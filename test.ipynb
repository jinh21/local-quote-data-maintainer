{
 "cells": [
  {
   "cell_type": "code",
   "execution_count": 1,
   "metadata": {},
   "outputs": [],
   "source": [
    "import threading\n",
    "import socket\n",
    "\n",
    "def server():\n",
    "    s = socket.socket(socket.AF_INET,socket.SOCK_STREAM)\n",
    "    host = \"localhost\"\n",
    "    port = 6666\n",
    "    s.bind((host, port))\n",
    "    s.listen(2)\n",
    "    count = 0\n",
    "    while count < 1:\n",
    "        c, addr = s.accept()\n",
    "        print(f'welcome {addr}')\n",
    "        c.send(str.encode('welcome here!'))\n",
    "        c.close()\n",
    "        count += 1\n",
    "    \n",
    "\n",
    "\n",
    "def client():\n",
    "    s = socket.socket(socket.AF_INET,socket.SOCK_STREAM)\n",
    "    host = \"localhost\"\n",
    "    port = 6666\n",
    "    if s.gettimeout() is None:\n",
    "        s.settimeout(60)\n",
    "    s.connect((host, port))\n",
    "    print(s.recv(1024).decode())\n",
    "    s.close()"
   ]
  },
  {
   "cell_type": "code",
   "execution_count": 2,
   "metadata": {},
   "outputs": [
    {
     "output_type": "stream",
     "name": "stdout",
     "text": "welcome ('127.0.0.1', 5035)\nwelcome here!\n"
    }
   ],
   "source": [
    "t1 = threading.Thread(target=server)\n",
    "t2 = threading.Thread(target=client)\n",
    "\n",
    "t1.start()\n",
    "t2.start()\n",
    "\n",
    "t1.join()\n",
    "t2.join()"
   ]
  },
  {
   "cell_type": "code",
   "execution_count": null,
   "metadata": {},
   "outputs": [],
   "source": []
  }
 ],
 "metadata": {
  "language_info": {
   "codemirror_mode": {
    "name": "ipython",
    "version": 3
   },
   "file_extension": ".py",
   "mimetype": "text/x-python",
   "name": "python",
   "nbconvert_exporter": "python",
   "pygments_lexer": "ipython3",
   "version": "3.7.6-final"
  },
  "orig_nbformat": 2,
  "kernelspec": {
   "name": "python37664bitbasecondae7c90027943c4df9ab5420e8441d82c2",
   "display_name": "Python 3.7.6 64-bit ('base': conda)"
  }
 },
 "nbformat": 4,
 "nbformat_minor": 2
}